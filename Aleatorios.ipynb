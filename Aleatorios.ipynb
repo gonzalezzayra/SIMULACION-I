{
  "nbformat": 4,
  "nbformat_minor": 0,
  "metadata": {
    "colab": {
      "provenance": [],
      "authorship_tag": "ABX9TyNYiRlqYg46eN7kj+cJQg80",
      "include_colab_link": true
    },
    "kernelspec": {
      "name": "python3",
      "display_name": "Python 3"
    },
    "language_info": {
      "name": "python"
    }
  },
  "cells": [
    {
      "cell_type": "markdown",
      "metadata": {
        "id": "view-in-github",
        "colab_type": "text"
      },
      "source": [
        "<a href=\"https://colab.research.google.com/github/gonzalezzayra/SIMULACION-I/blob/main/Aleatorios.ipynb\" target=\"_parent\"><img src=\"https://colab.research.google.com/assets/colab-badge.svg\" alt=\"Open In Colab\"/></a>"
      ]
    },
    {
      "cell_type": "markdown",
      "source": [
        "Números aleatorios"
      ],
      "metadata": {
        "id": "x3G78d87WK0i"
      }
    },
    {
      "cell_type": "code",
      "execution_count": null,
      "metadata": {
        "colab": {
          "base_uri": "https://localhost:8080/"
        },
        "id": "xCaA6NPkWJjY",
        "outputId": "d4b8f35b-020c-4c65-aef0-ba0c58fd6e3e"
      },
      "outputs": [
        {
          "output_type": "stream",
          "name": "stdout",
          "text": [
            "19\n",
            "17\n",
            "9\n",
            "21\n",
            "3\n",
            "19\n",
            "17\n",
            "9\n",
            "21\n",
            "3\n"
          ]
        }
      ],
      "source": [
        "a = 4;\n",
        "c = 7;\n",
        "m = 22;\n",
        "x = 3;\n",
        "\n",
        "for i in range(10):\n",
        "  x = (a*x + c)%22\n",
        "  print(x)\n"
      ]
    },
    {
      "cell_type": "code",
      "source": [
        "a = 4;\n",
        "c = 7;\n",
        "m = 22;\n",
        "x = 3;\n",
        "n= 10;\n",
        "\n",
        "#Por iteración\n",
        "for i in range(n):\n",
        "  x_1 = (a*x + c) % m;\n",
        "  x = x_1;\n",
        "  print(x_1);\n",
        "\n",
        "#Funcion Generadora\n",
        "\n",
        "def generador(a, c, m, x):\n",
        "  x = (a*x + c) % m;\n",
        "  return x;\n",
        "\n",
        "print(generador(a, c, m, x));\n",
        "\n",
        "\n",
        "\n",
        "\n"
      ],
      "metadata": {
        "colab": {
          "base_uri": "https://localhost:8080/"
        },
        "id": "gGXHOtsxd53K",
        "outputId": "a866e0c2-3e81-4989-990c-03b73f11b2b6"
      },
      "execution_count": 26,
      "outputs": [
        {
          "output_type": "stream",
          "name": "stdout",
          "text": [
            "19\n",
            "17\n",
            "9\n",
            "21\n",
            "3\n",
            "19\n",
            "17\n",
            "9\n",
            "21\n",
            "3\n",
            "19\n"
          ]
        }
      ]
    },
    {
      "cell_type": "code",
      "source": [
        "import tabulate\n",
        "\n",
        "a = 4; # cambiar valores a y c\n",
        "c = 7;\n",
        "m = 22;\n",
        "x0 = 3;\n",
        "n = 10;\n",
        "\n",
        "#Función generadora\n",
        "\n",
        "def generador(a, c, m, x0):\n",
        "  x = (a*x0 + c) % m\n",
        "  return x\n",
        "\n",
        "muestra =[]\n",
        "\n",
        "for i in range(n):\n",
        "  nuevo = generador(a,c,m,x0)\n",
        "  muestra.append([i,x0,nuevo/m])\n",
        "  x0=nuevo\n",
        "encabezados=[\"i\",\"x_1\",\"x_{i+1}\"]\n",
        "print(tabulate.tabulate(muestra,headers = encabezados))"
      ],
      "metadata": {
        "id": "e3PRSwu2emx9",
        "colab": {
          "base_uri": "https://localhost:8080/"
        },
        "outputId": "75c47ec2-ba17-4cbb-cc92-df66e0d2b9ac"
      },
      "execution_count": 36,
      "outputs": [
        {
          "output_type": "stream",
          "name": "stdout",
          "text": [
            "  i    x_1    x_{i+1}\n",
            "---  -----  ---------\n",
            "  0      3   0.863636\n",
            "  1     19   0.772727\n",
            "  2     17   0.409091\n",
            "  3      9   0.954545\n",
            "  4     21   0.136364\n",
            "  5      3   0.863636\n",
            "  6     19   0.772727\n",
            "  7     17   0.409091\n",
            "  8      9   0.954545\n",
            "  9     21   0.136364\n"
          ]
        }
      ]
    }
  ]
}