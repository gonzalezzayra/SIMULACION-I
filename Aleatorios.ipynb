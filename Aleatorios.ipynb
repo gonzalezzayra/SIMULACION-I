{
  "nbformat": 4,
  "nbformat_minor": 0,
  "metadata": {
    "colab": {
      "provenance": [],
      "authorship_tag": "ABX9TyOzwfuYpAVD723Y3UH+jaJr",
      "include_colab_link": true
    },
    "kernelspec": {
      "name": "python3",
      "display_name": "Python 3"
    },
    "language_info": {
      "name": "python"
    }
  },
  "cells": [
    {
      "cell_type": "markdown",
      "metadata": {
        "id": "view-in-github",
        "colab_type": "text"
      },
      "source": [
        "<a href=\"https://colab.research.google.com/github/gonzalezzayra/SIMULACION-I/blob/main/Aleatorios.ipynb\" target=\"_parent\"><img src=\"https://colab.research.google.com/assets/colab-badge.svg\" alt=\"Open In Colab\"/></a>"
      ]
    },
    {
      "cell_type": "markdown",
      "source": [
        "Números aleatorios"
      ],
      "metadata": {
        "id": "x3G78d87WK0i"
      }
    },
    {
      "cell_type": "code",
      "execution_count": null,
      "metadata": {
        "colab": {
          "base_uri": "https://localhost:8080/"
        },
        "id": "xCaA6NPkWJjY",
        "outputId": "d4b8f35b-020c-4c65-aef0-ba0c58fd6e3e"
      },
      "outputs": [
        {
          "output_type": "stream",
          "name": "stdout",
          "text": [
            "19\n",
            "17\n",
            "9\n",
            "21\n",
            "3\n",
            "19\n",
            "17\n",
            "9\n",
            "21\n",
            "3\n"
          ]
        }
      ],
      "source": [
        "a = 4;\n",
        "c = 7;\n",
        "m = 22;\n",
        "x = 3;\n",
        "\n",
        "for i in range(10):\n",
        "  x = (a*x + c)%22\n",
        "  print(x)\n"
      ]
    },
    {
      "cell_type": "code",
      "source": [
        "a = 4;\n",
        "c = 7;\n",
        "m = 22;\n",
        "x = 3;\n",
        "n= 10;\n",
        "\n",
        "#Por iteración\n",
        "for i in range(n):\n",
        "  x_1 = (a*x + c) % m;\n",
        "  x = x_1;\n",
        "  print(x_1);\n",
        "\n",
        "#Funcion Generadora\n",
        "\n",
        "def generador(a, c, m, x):\n",
        "  x = (a*x + c) % m;\n",
        "  return x;\n",
        "\n",
        "print(generador(a, c, m, x));\n",
        "\n",
        "\n",
        "\n",
        "\n"
      ],
      "metadata": {
        "colab": {
          "base_uri": "https://localhost:8080/"
        },
        "id": "gGXHOtsxd53K",
        "outputId": "a866e0c2-3e81-4989-990c-03b73f11b2b6"
      },
      "execution_count": null,
      "outputs": [
        {
          "output_type": "stream",
          "name": "stdout",
          "text": [
            "19\n",
            "17\n",
            "9\n",
            "21\n",
            "3\n",
            "19\n",
            "17\n",
            "9\n",
            "21\n",
            "3\n",
            "19\n"
          ]
        }
      ]
    },
    {
      "cell_type": "code",
      "source": [
        "import tabulate\n",
        "import matplotlib.pyplot as plt\n",
        "\n",
        "a = 81; # cambiar valores a y c\n",
        "c = 89;\n",
        "m = 10**2;\n",
        "x0 = 5;\n",
        "n = 102;\n",
        "\n",
        "#Función generadora\n",
        "\n",
        "def generador(a, c, m, x0):\n",
        "  x = (a*x0 + c) % m\n",
        "  return x\n",
        "\n",
        "muestra =[]\n",
        "lista=[]\n",
        "\n",
        "for i in range(n):\n",
        "  nuevo = generador(a,c,m,x0)\n",
        "  muestra.append([i,x0,nuevo/m])\n",
        "  lista.append(nuevo/m)\n",
        "  x0=nuevo\n",
        "encabezados=[\"i\",\"x_1\",\"x_{i+1}\"]\n",
        "print(tabulate.tabulate(muestra,headers = encabezados))\n",
        "\n",
        "\n",
        "plt.plot(lista);\n",
        "plt.hist(lista);"
      ],
      "metadata": {
        "id": "e3PRSwu2emx9",
        "colab": {
          "base_uri": "https://localhost:8080/",
          "height": 1000
        },
        "outputId": "e7135325-372a-4bdb-b6ce-65972224e258"
      },
      "execution_count": 13,
      "outputs": [
        {
          "output_type": "stream",
          "name": "stdout",
          "text": [
            "  i    x_1    x_{i+1}\n",
            "---  -----  ---------\n",
            "  0      5       0.94\n",
            "  1     94       0.03\n",
            "  2      3       0.32\n",
            "  3     32       0.81\n",
            "  4     81       0.5\n",
            "  5     50       0.39\n",
            "  6     39       0.48\n",
            "  7     48       0.77\n",
            "  8     77       0.26\n",
            "  9     26       0.95\n",
            " 10     95       0.84\n",
            " 11     84       0.93\n",
            " 12     93       0.22\n",
            " 13     22       0.71\n",
            " 14     71       0.4\n",
            " 15     40       0.29\n",
            " 16     29       0.38\n",
            " 17     38       0.67\n",
            " 18     67       0.16\n",
            " 19     16       0.85\n",
            " 20     85       0.74\n",
            " 21     74       0.83\n",
            " 22     83       0.12\n",
            " 23     12       0.61\n",
            " 24     61       0.3\n",
            " 25     30       0.19\n",
            " 26     19       0.28\n",
            " 27     28       0.57\n",
            " 28     57       0.06\n",
            " 29      6       0.75\n",
            " 30     75       0.64\n",
            " 31     64       0.73\n",
            " 32     73       0.02\n",
            " 33      2       0.51\n",
            " 34     51       0.2\n",
            " 35     20       0.09\n",
            " 36      9       0.18\n",
            " 37     18       0.47\n",
            " 38     47       0.96\n",
            " 39     96       0.65\n",
            " 40     65       0.54\n",
            " 41     54       0.63\n",
            " 42     63       0.92\n",
            " 43     92       0.41\n",
            " 44     41       0.1\n",
            " 45     10       0.99\n",
            " 46     99       0.08\n",
            " 47      8       0.37\n",
            " 48     37       0.86\n",
            " 49     86       0.55\n",
            " 50     55       0.44\n",
            " 51     44       0.53\n",
            " 52     53       0.82\n",
            " 53     82       0.31\n",
            " 54     31       0\n",
            " 55      0       0.89\n",
            " 56     89       0.98\n",
            " 57     98       0.27\n",
            " 58     27       0.76\n",
            " 59     76       0.45\n",
            " 60     45       0.34\n",
            " 61     34       0.43\n",
            " 62     43       0.72\n",
            " 63     72       0.21\n",
            " 64     21       0.9\n",
            " 65     90       0.79\n",
            " 66     79       0.88\n",
            " 67     88       0.17\n",
            " 68     17       0.66\n",
            " 69     66       0.35\n",
            " 70     35       0.24\n",
            " 71     24       0.33\n",
            " 72     33       0.62\n",
            " 73     62       0.11\n",
            " 74     11       0.8\n",
            " 75     80       0.69\n",
            " 76     69       0.78\n",
            " 77     78       0.07\n",
            " 78      7       0.56\n",
            " 79     56       0.25\n",
            " 80     25       0.14\n",
            " 81     14       0.23\n",
            " 82     23       0.52\n",
            " 83     52       0.01\n",
            " 84      1       0.7\n",
            " 85     70       0.59\n",
            " 86     59       0.68\n",
            " 87     68       0.97\n",
            " 88     97       0.46\n",
            " 89     46       0.15\n",
            " 90     15       0.04\n",
            " 91      4       0.13\n",
            " 92     13       0.42\n",
            " 93     42       0.91\n",
            " 94     91       0.6\n",
            " 95     60       0.49\n",
            " 96     49       0.58\n",
            " 97     58       0.87\n",
            " 98     87       0.36\n",
            " 99     36       0.05\n",
            "100      5       0.94\n",
            "101     94       0.03\n"
          ]
        },
        {
          "output_type": "display_data",
          "data": {
            "text/plain": [
              "<Figure size 640x480 with 1 Axes>"
            ],
            "image/png": "[encoded data removed]"
          },
          "metadata": {}
        }
      ]
    }
  ]
}