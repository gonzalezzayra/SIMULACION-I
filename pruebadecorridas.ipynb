{
  "nbformat": 4,
  "nbformat_minor": 0,
  "metadata": {
    "colab": {
      "provenance": [],
      "authorship_tag": "ABX9TyNG52eJkspLrCrU1r9hmf4p",
      "include_colab_link": true
    },
    "kernelspec": {
      "name": "python3",
      "display_name": "Python 3"
    },
    "language_info": {
      "name": "python"
    }
  },
  "cells": [
    {
      "cell_type": "markdown",
      "metadata": {
        "id": "view-in-github",
        "colab_type": "text"
      },
      "source": [
        "<a href=\"https://colab.research.google.com/github/gonzalezzayra/SIMULACION-I/blob/main/pruebadecorridas.ipynb\" target=\"_parent\"><img src=\"https://colab.research.google.com/assets/colab-badge.svg\" alt=\"Open In Colab\"/></a>"
      ]
    },
    {
      "cell_type": "markdown",
      "source": [
        "**Prueba de corridas (rachas)**"
      ],
      "metadata": {
        "id": "n1M7Yl6Yd0Ij"
      }
    },
    {
      "cell_type": "markdown",
      "source": [
        "\n",
        "\n",
        "1.   Determine una secuencia $s$ de unos y ceros generando un '0' si $$x_i < x_{i-1}$$\n",
        "o generando un '1' si $$ x_{i} \\geq x_{i-1}$$\n",
        "\n",
        "*s tiene $n-1$ términos\n",
        "\n",
        "2.   Halle el número de corridas (rachas) oobservadas $C_0$. Una corrida viene dada por grupos de \"1\" o \"0\" consecutivos.\n",
        "\n",
        "3.   Calcule el valor esperado y la varianza del número de corridas así como $z_0$:\n",
        "\n",
        "$$\\mu_{C_0} = \\frac{2n -1}{3}$$\n",
        "\n",
        "$${\\sigma^{2}}_{C_0} = \\frac{16n -29}{90}$$\n",
        "\n",
        "$$z_{0} = \\frac{C_0 - \\mu_{C_0}}{\\sigma_{C_0}}$$\n",
        "\n",
        "Dado que $C_0 \\sim N(\\mu_{C_0}, \\sigma_{C_0})$  $\\text{ y } $$z_0 \\sim N(0,1)$ el intervalo de aceptación es:\n",
        "\n",
        "$$-z_{\\frac{\\alpha}{2}} \\leq z_0 \\leq +z_{\\frac{\\alpha}{2}} $$\n",
        "\n",
        "\n",
        "\n",
        "\n",
        "\n",
        "\n"
      ],
      "metadata": {
        "id": "3SP7q-3Wo8CC"
      }
    },
    {
      "cell_type": "code",
      "source": [
        "import numpy as np"
      ],
      "metadata": {
        "id": "tcX6MPEVdykU"
      },
      "execution_count": 40,
      "outputs": []
    },
    {
      "cell_type": "code",
      "source": [
        "#n=25, en este caso la muestra es de 25\n",
        "\n",
        "#muestra\n",
        "\n",
        "muestra=[0.048, 0.926, 0.368, 0.787, 0.298, 0.591, 0.007, 0.437, 0.594, 0.199, 0.478, 0.551, 0.178, 0.086, 0.157, 0.166, 0.362, 0.411, 0.951, 0.401, 0.932, 0.533, 0.545, 0.772, 0.631]\n"
      ],
      "metadata": {
        "id": "clzSZ1zGfsWW"
      },
      "execution_count": 41,
      "outputs": []
    },
    {
      "cell_type": "code",
      "source": [
        "#checar el tamaño de la muestra\n",
        "n = len(muestra)\n",
        "print(\"El tamaño de la muestra es:\", n)"
      ],
      "metadata": {
        "colab": {
          "base_uri": "https://localhost:8080/"
        },
        "id": "FS-JUjMRlRbO",
        "outputId": "d70c1866-7bc4-4a0f-b628-0f60d9c454e0"
      },
      "execution_count": 42,
      "outputs": [
        {
          "output_type": "stream",
          "name": "stdout",
          "text": [
            "El tamaño de la muestra es: 25\n"
          ]
        }
      ]
    },
    {
      "cell_type": "code",
      "execution_count": 43,
      "metadata": {
        "id": "Xop8l47wsndk",
        "colab": {
          "base_uri": "https://localhost:8080/"
        },
        "outputId": "21ad634d-ec32-4426-815d-9e415d54a26f"
      },
      "outputs": [
        {
          "output_type": "stream",
          "name": "stdout",
          "text": [
            "La secuencia es:  [1, 0, 1, 0, 1, 0, 1, 1, 0, 1, 1, 0, 0, 1, 1, 1, 1, 1, 0, 1, 0, 1, 1, 0]\n",
            "El número de rachas es: 16\n",
            "El valor de C_0: 16\n"
          ]
        }
      ],
      "source": [
        "def secuencia(cantidad):\n",
        "\n",
        "#crear lista para guardar la secuencia\n",
        "  secuencia = []\n",
        "\n",
        "#ciclo for para definir secuencia\n",
        "  for i in range(1, len(cantidad)):\n",
        "#ciclo if para ver si es 0 o 1\n",
        "    if cantidad[i] > cantidad[i-1]: #si x_i es mayor que x_{i-1}\n",
        "      secuencia.append(1) #se añade un '1' a la lista\n",
        "    else:\n",
        "      secuencia.append(0) #se añade un '0' a la lista\n",
        "  return secuencia\n",
        "\n",
        "s = secuencia(muestra)\n",
        "#imprimir secuencia\n",
        "print(\"La secuencia es: \",s)\n",
        "\n",
        "#se inicializa el contador en 1\n",
        "contador = 1\n",
        "#ciclo for para comparar los elemmentos de la secuencia\n",
        "for i in range(1, len(s)):\n",
        "    if s[i] != s[i-1]: #si s_i es no es igual a s_i-1 se le suma 1 al contador\n",
        "      contador = contador + 1\n",
        "#Por ejemplo, de la secuencia 1,0,1,0,1,1\n",
        "#se tiene 5 rachas, entonces con el contador sería\n",
        "#inicia el contador en 1, contador = 1 + (1 + 1 + 1 + 1) = 5, es basicamente lo que hace\n",
        "#si no iniciamos en contador en 1, solo cuenta 4 rachas\n",
        "\n",
        "\n",
        "print(\"El número de rachas es:\", contador)\n",
        "\n",
        "#c_0 es lo obtenido es el contador, que son el número de rachas\n",
        "c_0 = contador\n",
        "\n",
        "print(\"El valor de C_0:\",c_0)\n"
      ]
    },
    {
      "cell_type": "code",
      "source": [
        "#calcular el valor esperado, varianza y el estadistico\n",
        "#valor esperado\n",
        "mu_c0 = ((2*(n)) -1)/3\n",
        "#varianza\n",
        "var_c0 = ((16*n)-29)/90\n",
        "#el estadistico\n",
        "z_0 = (c_0 - mu_c0)/(np.sqrt(var_c0))\n",
        "\n",
        "print(\"El valor esperado es:\", mu_c0)\n",
        "print(\"La varianza es:\", var_c0)\n",
        "print(\"El estadístico es:\", z_0)\n"
      ],
      "metadata": {
        "colab": {
          "base_uri": "https://localhost:8080/"
        },
        "id": "RIahu6LTgifJ",
        "outputId": "0eb0741f-03e8-48c4-a7ec-9317aed9529f"
      },
      "execution_count": 44,
      "outputs": [
        {
          "output_type": "stream",
          "name": "stdout",
          "text": [
            "El valor esperado es: 16.333333333333332\n",
            "La varianza es: 4.122222222222222\n",
            "El estadístico es: -0.16417727582577904\n"
          ]
        }
      ]
    },
    {
      "cell_type": "code",
      "source": [
        "#calcular el intervalo de aceptación\n",
        "alpha = 0.05 #nivel de aceptacion del 95%\n",
        "\n",
        "z_alpha = 1.96 #dato proporcionado por la tabla\n",
        "\n",
        "#Se rechaza o no se rechaza H_0\n",
        "#Ciclo if, para verificar si se encuentra dentro del intervalo\n",
        "if z_0 < -z_alpha or z_0 > z_alpha:\n",
        "  print(\"Rechaza H_0\")\n",
        "else:\n",
        "  print(\"No rechaza H_0\")\n"
      ],
      "metadata": {
        "colab": {
          "base_uri": "https://localhost:8080/"
        },
        "id": "WIBN6YRsmG8j",
        "outputId": "b8924550-c2ff-4435-b8b8-13ff9747915f"
      },
      "execution_count": 45,
      "outputs": [
        {
          "output_type": "stream",
          "name": "stdout",
          "text": [
            "No rechaza H_0\n"
          ]
        }
      ]
    }
  ]
}