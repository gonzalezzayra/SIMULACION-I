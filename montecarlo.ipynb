{
  "nbformat": 4,
  "nbformat_minor": 0,
  "metadata": {
    "colab": {
      "provenance": [],
      "authorship_tag": "ABX9TyNTQaEXz8rpSrMcWswAEevO",
      "include_colab_link": true
    },
    "kernelspec": {
      "name": "python3",
      "display_name": "Python 3"
    },
    "language_info": {
      "name": "python"
    }
  },
  "cells": [
    {
      "cell_type": "markdown",
      "metadata": {
        "id": "view-in-github",
        "colab_type": "text"
      },
      "source": [
        "<a href=\"https://colab.research.google.com/github/gonzalezzayra/SIMULACION-I/blob/main/montecarlo.ipynb\" target=\"_parent\"><img src=\"https://colab.research.google.com/assets/colab-badge.svg\" alt=\"Open In Colab\"/></a>"
      ]
    },
    {
      "cell_type": "markdown",
      "source": [
        "**Método de Monte Carlo de acierto y error**"
      ],
      "metadata": {
        "id": "JNhxrSMrq5MG"
      }
    },
    {
      "cell_type": "markdown",
      "source": [
        "\n",
        "Estimar\n",
        "\n",
        "$$\\int_{0}^{1} \\sqrt{arc tan(x)} dx \\approx 0.62982334$$"
      ],
      "metadata": {
        "id": "Il3qqjSjrV8J"
      }
    },
    {
      "cell_type": "markdown",
      "source": [
        "El método Monte Carlo es un método estadístico que se ha convertido en una herramienta fundamental en diversos campos"
      ],
      "metadata": {
        "id": "HJ5w0ASytCM9"
      }
    },
    {
      "cell_type": "markdown",
      "source": [
        "**Acierto y error**\n",
        "\n",
        "Es un tipo de estimación del área de una región o de cálculo de la integral de unafunción.\n",
        "\n",
        "Los puntos aleatorios no se generan dentro de un dominio específico, sino dentro de un dominio más amplio que incluye la región de interés.Luego se verifica cada punto para ver si \"llega\" a la región de interés, y esta información se utiliza para calcular la estimación."
      ],
      "metadata": {
        "id": "-2c-_EtMtL7l"
      }
    },
    {
      "cell_type": "code",
      "source": [
        "#Importar librerias\n",
        "import numpy as np\n",
        "import matplotlib.pyplot as plt\n",
        "import random as rd"
      ],
      "metadata": {
        "id": "vqiDfqvLVn6k"
      },
      "execution_count": 219,
      "outputs": []
    },
    {
      "cell_type": "code",
      "source": [
        "#Definir funcion f(x) = raíz(arc tan(x))\n",
        "def f(x):\n",
        "  return np.sqrt(np.arctan(x))"
      ],
      "metadata": {
        "id": "PGOa7UxIVc8N"
      },
      "execution_count": 220,
      "outputs": []
    },
    {
      "cell_type": "code",
      "source": [
        "#x genera 400 valores equidistantes entre 0 y 1\n",
        "x = np.linspace(0,1,400)\n",
        "#print(x)"
      ],
      "metadata": {
        "id": "MwGRV7h5XsWe"
      },
      "execution_count": 221,
      "outputs": []
    },
    {
      "cell_type": "code",
      "source": [
        "#Evaluamos los valores del arreglo de los valores de x\n",
        "#Como ya se había definido antes la funcion\n",
        "y = f(x)\n",
        "#Imprime cada valor evaluado en la función\n",
        "#print(y)"
      ],
      "metadata": {
        "id": "CZ7CAMu7W0mf"
      },
      "execution_count": 222,
      "outputs": []
    },
    {
      "cell_type": "code",
      "source": [
        "#Siendo 1 el valor más grande en el arreglo de x\n",
        "#Evaluamos la función en 1 y nos da el valor de 0.8862\n",
        "f(1)"
      ],
      "metadata": {
        "colab": {
          "base_uri": "https://localhost:8080/"
        },
        "id": "L4qCOZD_YT02",
        "outputId": "8140e86e-583e-4076-dbef-8cf168d33c76"
      },
      "execution_count": 21,
      "outputs": [
        {
          "output_type": "execute_result",
          "data": {
            "text/plain": [
              "np.float64(0.8862269254527579)"
            ]
          },
          "metadata": {},
          "execution_count": 21
        }
      ]
    },
    {
      "cell_type": "code",
      "source": [
        "#Generamos números aleatorios para 2 variables\n",
        "#Podríamos ver el punto de coordenadas como (u1,u2)\n",
        "u1 = rd.random()\n",
        "u2 = rd.random()"
      ],
      "metadata": {
        "id": "RQKzYfFAXbcY"
      },
      "execution_count": 122,
      "outputs": []
    },
    {
      "cell_type": "code",
      "source": [
        "#Definimos la función dardos\n",
        "#Se simulan hasta n dardos\n",
        "def dardos(n):\n",
        "  exitos = 0 #contador para saber cuantos dardos caen\n",
        "  for i in range(n):\n",
        "    u1 = rd.random()\n",
        "    u2 = rd.random()\n",
        "    #necesitamos ver si es un exito\n",
        "    if u2  <= f(u1): #si cae bajo la curva, se le suma un exito\n",
        "      exitos += 1\n",
        "  prob = exitos/n #obtenemos la probabilidad como los exitos entre el número de \"lanzamientos\"\n",
        "  return prob"
      ],
      "metadata": {
        "id": "KB2WA_CwYbRB"
      },
      "execution_count": 118,
      "outputs": []
    },
    {
      "cell_type": "code",
      "source": [
        "#Se simulan 1000000 y nos devuelve una estimación\n",
        "dardos(1000000)"
      ],
      "metadata": {
        "colab": {
          "base_uri": "https://localhost:8080/"
        },
        "id": "w7dc-tXsZohL",
        "outputId": "937e8441-8533-41a5-9246-db760b55106e"
      },
      "execution_count": 86,
      "outputs": [
        {
          "output_type": "execute_result",
          "data": {
            "text/plain": [
              "0.629518"
            ]
          },
          "metadata": {},
          "execution_count": 86
        }
      ]
    },
    {
      "cell_type": "code",
      "source": [
        "#La gráfica de f(x)\n",
        "plt.plot(x,y)\n",
        "plt.axhline(f(1), color =\"red\") #es la recta horizontal cuando se evalúa a f(x) en 1\n",
        "plt.axvline(1, color = \"red\") #es la recta cuando x es igual a 1\n",
        "plt.scatter(u1, u2, color = \"green\") #se gráfica el punto de coordenadas (u1,u2)"
      ],
      "metadata": {
        "colab": {
          "base_uri": "https://localhost:8080/",
          "height": 218
        },
        "id": "xg5g7_T_WY4L",
        "outputId": "299aa2c1-e6fb-4198-dffd-59d70c8317eb"
      },
      "execution_count": 223,
      "outputs": [
        {
          "output_type": "execute_result",
          "data": {
            "text/plain": [
              "<matplotlib.collections.PathCollection at 0x7984847d1a90>"
            ]
          },
          "metadata": {},
          "execution_count": 223
        },
        {
          "output_type": "display_data",
          "data": {
            "text/plain": [
              "<Figure size 640x480 with 1 Axes>"
            ],
            "image/png": "[encoded data removed]"
          },
          "metadata": {}
        }
      ]
    },
    {
      "cell_type": "code",
      "source": [
        "#Definimos el experimento\n",
        "def experimento(m):\n",
        "  lista = [] #generamos una lista para almacenar los valores\n",
        "  for i in range(m): #ciclo for\n",
        "    d = dardos(i+1) #se utiliza la función dardos qué antes se generó\n",
        "    lista.append(d) #en la lista se guarda cada valor de d\n",
        "  return(lista) #se devuelve la lista"
      ],
      "metadata": {
        "id": "-NlTNZlQXoPA"
      },
      "execution_count": 148,
      "outputs": []
    },
    {
      "cell_type": "code",
      "source": [
        "l = experimento(1000) #se simula el experimento m veces\n",
        "#print(\"Los valores del experimento:\", l) imprime los valores del experimento\n",
        "#valores que después se ocupan para graficar"
      ],
      "metadata": {
        "id": "Pk6FJIe4bdv-"
      },
      "execution_count": 225,
      "outputs": []
    },
    {
      "cell_type": "code",
      "source": [
        "#Calcular la media de los valores de l\n",
        "media = np.mean(l)\n",
        "print(\"El valor de la media es:\", media)"
      ],
      "metadata": {
        "colab": {
          "base_uri": "https://localhost:8080/"
        },
        "id": "Ni6Czi2-cgb6",
        "outputId": "b364d06e-ce20-43e4-c033-10c1d9bb110a"
      },
      "execution_count": 228,
      "outputs": [
        {
          "output_type": "stream",
          "name": "stdout",
          "text": [
            "El valor de la media es: 0.6297693821125923\n"
          ]
        }
      ]
    },
    {
      "cell_type": "code",
      "source": [
        "#Calcular la varianza\n",
        "varianza = np.var(l)\n",
        "\n",
        "print(\"El valor de la varianza es:\", varianza)\n",
        "#Calcular la desviación estándar\n",
        "desviacion = np.sqrt(varianza)\n",
        "print(\"El valor de la desviación estándar es:\", desviacion)"
      ],
      "metadata": {
        "colab": {
          "base_uri": "https://localhost:8080/"
        },
        "id": "vBnVs-V1cyzX",
        "outputId": "f9248018-c299-4569-9e4b-ed60a65f2e7c"
      },
      "execution_count": 229,
      "outputs": [
        {
          "output_type": "stream",
          "name": "stdout",
          "text": [
            "El valor de la varianza es: 0.002021646091722951\n",
            "El valor de la desviación estándar es: 0.04496271890936925\n"
          ]
        }
      ]
    },
    {
      "cell_type": "code",
      "source": [
        "#Grafica del experimento con\n",
        "plt.plot(l)\n",
        "plt.axhline(media, color = \"red\")\n",
        "#plt.axhline(0.629823, color = \"green\") solo con valor de referencia\n",
        "plt.axhline(media + desviacion, color =\"red\", linestyle = \"--\") #linea de referencia con la media\n",
        "plt.axhline(media - desviacion, color =\"red\", linestyle = \"--\") #línea de referencia de la desviacion con respecto a la media\n",
        "#se va acercando a 0.6298"
      ],
      "metadata": {
        "colab": {
          "base_uri": "https://localhost:8080/",
          "height": 218
        },
        "id": "PdXprsaNa5uF",
        "outputId": "10e0deb6-32d3-4971-c991-2811f3316939"
      },
      "execution_count": 230,
      "outputs": [
        {
          "output_type": "execute_result",
          "data": {
            "text/plain": [
              "<matplotlib.lines.Line2D at 0x7984846c8050>"
            ]
          },
          "metadata": {},
          "execution_count": 230
        },
        {
          "output_type": "display_data",
          "data": {
            "text/plain": [
              "<Figure size 640x480 with 1 Axes>"
            ],
            "image/png": "[encoded data removed]"
          },
          "metadata": {}
        }
      ]
    },
    {
      "cell_type": "code",
      "source": [
        "print(l[-1])\n",
        "#imprime el último valor del experimento"
      ],
      "metadata": {
        "colab": {
          "base_uri": "https://localhost:8080/"
        },
        "id": "_6ceaWAXcS-E",
        "outputId": "6fc18ed1-7de0-41d0-fff5-de3cc74eb028"
      },
      "execution_count": 231,
      "outputs": [
        {
          "output_type": "stream",
          "name": "stdout",
          "text": [
            "0.644\n"
          ]
        }
      ]
    },
    {
      "cell_type": "code",
      "source": [
        "#Calcular el error\n",
        "\n",
        "aprox = 0.629823344\n",
        "error = abs(aprox - l[-1]) #del último valor del experimento\n",
        "print(\"El error es:\", error)"
      ],
      "metadata": {
        "colab": {
          "base_uri": "https://localhost:8080/"
        },
        "id": "eKxUBoat7QkC",
        "outputId": "ff9ef04c-ff42-42ce-f68c-f9a98ac07eec"
      },
      "execution_count": 233,
      "outputs": [
        {
          "output_type": "stream",
          "name": "stdout",
          "text": [
            "El error es: 0.014176656000000065\n"
          ]
        }
      ]
    }
  ]
}