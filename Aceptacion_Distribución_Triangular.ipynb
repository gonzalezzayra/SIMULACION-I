{
  "nbformat": 4,
  "nbformat_minor": 0,
  "metadata": {
    "colab": {
      "provenance": [],
      "authorship_tag": "ABX9TyO4SkSrX3yWGG3nJ8zR8tYU",
      "include_colab_link": true
    },
    "kernelspec": {
      "name": "python3",
      "display_name": "Python 3"
    },
    "language_info": {
      "name": "python"
    }
  },
  "cells": [
    {
      "cell_type": "markdown",
      "metadata": {
        "id": "view-in-github",
        "colab_type": "text"
      },
      "source": [
        "<a href=\"https://colab.research.google.com/github/gonzalezzayra/SIMULACION-I/blob/main/Aceptacion_Distribuci%C3%B3n_Triangular.ipynb\" target=\"_parent\"><img src=\"https://colab.research.google.com/assets/colab-badge.svg\" alt=\"Open In Colab\"/></a>"
      ]
    },
    {
      "cell_type": "markdown",
      "source": [
        "**Método de Aceptación y Rechazo**\n",
        "\n",
        "\n",
        "\n",
        "*   **Paso 1.** Generar los números aleatorios $R_1$, $R_2$.  \n",
        "*   **Paso 2.** Determinar $x$:\n",
        "\n",
        "$$x= a + (b-a)\\cdot R_1$$\n",
        "\n",
        "*   **Paso 3.** Evaluar $f$ en $x$.\n",
        "*   **Paso 4.** Si\n",
        "\n",
        "$$R_2 \\leq \\frac{f(x)}{M}, \\text{aceptar } x$$\n",
        "\n",
        "Otro caso: Rechazar $x$\n",
        "\n",
        "\n",
        "\n"
      ],
      "metadata": {
        "id": "jQCFCfj47wh7"
      }
    },
    {
      "cell_type": "markdown",
      "source": [
        "**Ejemplo de la clase:**\n",
        "\n",
        "$$\n",
        "f(x) = \\begin{cases}\n",
        "2x & \\text{si } \\text{ } 0 \\leq x \\leq 1 \\\\\n",
        "0 & \\text{si } \\text{ } 0 >  x, \\text{ } x < 1\n",
        "\\end{cases}\n",
        "$$\n",
        "\n",
        "\n"
      ],
      "metadata": {
        "id": "vqH54pRxj_GA"
      }
    },
    {
      "cell_type": "code",
      "execution_count": 149,
      "metadata": {
        "id": "vA6bQ6-Teoi4"
      },
      "outputs": [],
      "source": [
        "#Importamos las librerias\n",
        "import random as rd\n",
        "import numpy as np\n",
        "import matplotlib.pyplot as plt"
      ]
    },
    {
      "cell_type": "code",
      "source": [
        "#Definimos f(x), dado el ejemplo\n",
        "def f(x):\n",
        "  return 2*x"
      ],
      "metadata": {
        "id": "SFy1_0qBet_f"
      },
      "execution_count": 151,
      "outputs": []
    },
    {
      "cell_type": "code",
      "source": [
        "#Proporcionamos los datos de a, b y M\n",
        "a = 0\n",
        "b = 1\n",
        "M = 2"
      ],
      "metadata": {
        "id": "8s0gDmNie9VE"
      },
      "execution_count": 152,
      "outputs": []
    },
    {
      "cell_type": "code",
      "source": [
        "#Definimos la función aceptación\n",
        "def aceptacionc(n):\n",
        "    lista = [] #Creamos una lista\n",
        "    for _ in range(n): #ciclo for que genera n elementos\n",
        "        #Paso 1. Generar los numeros aleatorios\n",
        "        R1 = rd.random() #Generamos el numero aleatorio R1\n",
        "        R2 = rd.random() #Generamos el numero aleatorio R2\n",
        "        #Paso 2. Determinar x\n",
        "        x = a + (b - a) * R1  # Genera x en [a, b]\n",
        "        #Paso 3. Evaluar f en x\n",
        "        #Paso 4. Si R2 es menor o igual que f(x) entre M, guardamos en la lista\n",
        "        if R2 <= f(x) / M:\n",
        "            lista.append(x)\n",
        "    return lista"
      ],
      "metadata": {
        "id": "ci3cmhRshweX"
      },
      "execution_count": 153,
      "outputs": []
    },
    {
      "cell_type": "code",
      "source": [
        "#Al experimento le damos n igual a 20000\n",
        "c = aceptacionc(20000)"
      ],
      "metadata": {
        "id": "dgFVGhwygl4w"
      },
      "execution_count": 154,
      "outputs": []
    },
    {
      "cell_type": "code",
      "source": [
        "#print(c)"
      ],
      "metadata": {
        "id": "ot-ZClk1gsqv"
      },
      "execution_count": 155,
      "outputs": []
    },
    {
      "cell_type": "code",
      "source": [
        "#Realizamos el histograma\n",
        "plt.hist(c, bins = 100)\n",
        "plt.title(\"Ejemplo de la clase\")\n",
        "plt.xlabel(\"x\")\n",
        "plt.ylabel(\"Densidad\")\n"
      ],
      "metadata": {
        "colab": {
          "base_uri": "https://localhost:8080/",
          "height": 490
        },
        "id": "UV6D5dXJhf-_",
        "outputId": "147c3aa8-d29d-4818-dd1d-67dd59153292"
      },
      "execution_count": 156,
      "outputs": [
        {
          "output_type": "execute_result",
          "data": {
            "text/plain": [
              "Text(0, 0.5, 'Densidad')"
            ]
          },
          "metadata": {},
          "execution_count": 156
        },
        {
          "output_type": "display_data",
          "data": {
            "text/plain": [
              "<Figure size 640x480 with 1 Axes>"
            ],
            "image/png": "[encoded data removed]"
          },
          "metadata": {}
        }
      ]
    },
    {
      "cell_type": "code",
      "source": [
        "print(\"El valor de la media es: \", np.mean(c))"
      ],
      "metadata": {
        "colab": {
          "base_uri": "https://localhost:8080/"
        },
        "id": "j7yep6qyiFQM",
        "outputId": "ffcb8bf4-cf87-4e6f-c045-e35bf646d0c3"
      },
      "execution_count": 157,
      "outputs": [
        {
          "output_type": "stream",
          "name": "stdout",
          "text": [
            "El valor de la media es:  0.6651094407760904\n"
          ]
        }
      ]
    },
    {
      "cell_type": "code",
      "source": [
        "print(\"El valor de la varianza es: \",np.var(c))"
      ],
      "metadata": {
        "colab": {
          "base_uri": "https://localhost:8080/"
        },
        "id": "eLtx9ETPiItl",
        "outputId": "9e161c44-edfb-428b-d2ee-caf09f51bbad"
      },
      "execution_count": 158,
      "outputs": [
        {
          "output_type": "stream",
          "name": "stdout",
          "text": [
            "El valor de la varianza es:  0.055789443681627277\n"
          ]
        }
      ]
    },
    {
      "cell_type": "code",
      "source": [
        "print(\"Número de muestras: \",len(c))"
      ],
      "metadata": {
        "colab": {
          "base_uri": "https://localhost:8080/"
        },
        "id": "3egFFyY0jZcn",
        "outputId": "4ec77ade-d08f-433b-ddf3-9fe64ce89f3b"
      },
      "execution_count": 160,
      "outputs": [
        {
          "output_type": "stream",
          "name": "stdout",
          "text": [
            "Número de muestras:  10040\n"
          ]
        }
      ]
    },
    {
      "cell_type": "markdown",
      "source": [
        "**Distribución Triangular**\n",
        "\n",
        "La distribución triangular es continua. Se caracteriza por tener una aproximación inicial en aquellas situaciones donde se carece de información.\n",
        "\n",
        "\n",
        "\n",
        "Su función de densidad es:\n",
        "\n",
        "$$\n",
        "f(x) = \\begin{cases}\n",
        "\\frac{2}{(c-a)(b-a)} (x-a) & \\text{si } \\text{ } a \\leq x \\leq b \\\\\n",
        "\\frac{-2}{(c-a)(c-b)}(x-c) & \\text{si } \\text{ }  b < x \\leq c\n",
        "\\end{cases}\n",
        "$$\n",
        "\n",
        "Para calcular la media es:\n",
        "\n",
        "$$\\mu = \\frac{a+b+c}{3}$$\n",
        "\n",
        "Para calcular la varianza es:\n",
        "\n",
        "$$\\sigma^2 = \\frac{(a^2 + b^2 + c^2 - ab - ac - bc) }{18}\n",
        "$$\n",
        "\n"
      ],
      "metadata": {
        "id": "XCvN3T5ekU5u"
      }
    },
    {
      "cell_type": "markdown",
      "source": [
        "Esta distribución tiene 3 parametros:\n",
        "\n",
        "**a** (valor mínimo), **b** (el valor más probable, moda) y **c** (valor máximo), falta **M** que es el valor más grande al evaluarlo.\n"
      ],
      "metadata": {
        "id": "xo-hl2fDBn12"
      }
    },
    {
      "cell_type": "markdown",
      "source": [
        "Los datos propuestos son:\n",
        "\n",
        "$$a = 1$$\n",
        "$$b = 3$$\n",
        "$$c = 5$$  \n",
        "\n",
        "Entonces la media es:\n",
        "\n",
        " $$\\mu = \\frac{1+3+5}{3} = 3$$\n",
        "\n",
        "La varianza es:\n",
        "\n",
        "$$\\sigma^2 = \\frac{(1^2 + 3^2 + 5^2 - 1 \\cdot 5 - 1 \\cdot 3 - 3 \\cdot 5) }{18} = \\frac{12}{18} = \\frac{2}{3} $$\n",
        "\n",
        "La desviación estandar es:\n",
        "\n",
        "$$\\sigma = \\sqrt{\\frac{2}{3}}$$\n",
        "\n",
        "El valor de M es:\n",
        "\n",
        "$$M = \\frac{2}{c-a} = \\frac{2}{5-1}= \\frac{1}{2}$$\n"
      ],
      "metadata": {
        "id": "vi48MzoVBs2h"
      }
    },
    {
      "cell_type": "code",
      "source": [
        "#Importar librerias\n",
        "import numpy as np\n",
        "import random as rd\n",
        "import matplotlib.pyplot as plt"
      ],
      "metadata": {
        "id": "IEKnUY2TkTfX"
      },
      "execution_count": 162,
      "outputs": []
    },
    {
      "cell_type": "code",
      "source": [
        "#Definimos los valores de a,b,c y calcular M\n",
        "a = 1\n",
        "b = 3\n",
        "c = 5\n",
        "M = 2/(c-a)"
      ],
      "metadata": {
        "id": "kkWBsBodm_cJ"
      },
      "execution_count": 164,
      "outputs": []
    },
    {
      "cell_type": "code",
      "source": [
        "#Definimos la función f(x), que es la función de densidad de la distribución\n",
        "def f(x):\n",
        "  if a <= x < b:\n",
        "     return (2/(((c-a)*(b-a)))*(x-a))\n",
        "  elif b <= x <= c:\n",
        "     return (-2/(((c-a)*(c-b)))*(x-c))\n",
        "  else:\n",
        "    return 0"
      ],
      "metadata": {
        "id": "fQWJA_GzkcyU"
      },
      "execution_count": 166,
      "outputs": []
    },
    {
      "cell_type": "code",
      "source": [
        "#Definimos la función de aceptación\n",
        "def aceptacion(n):\n",
        "    lis = [] #Creamos una lista\n",
        "    for _ in range(n):\n",
        "    #Paso 1. Generamos los números aleatorios\n",
        "        R3 = rd.random() #Generamos el primer numero aleatorio\n",
        "        R4 = rd.random() #Generamos el segundo numero aleatorio\n",
        "    #Paso 2. Determinar x\n",
        "        x = a + (c - a) * R3  #x en [a, c]\n",
        "    #Paso 3. Evaluar f en x\n",
        "    #Paso 4. Si R4 es menor o igual que f(x) entre M, guardamos en la lista\n",
        "        if R4 <= f(x) / M:    #Checamos si se acepta x, en otro caso se rechaza x\n",
        "            lis.append(x)\n",
        "    return lis"
      ],
      "metadata": {
        "id": "2NL7nBvHnE32"
      },
      "execution_count": 167,
      "outputs": []
    },
    {
      "cell_type": "code",
      "source": [
        "#Hacemos el experimento, dando n=200000\n",
        "l = aceptacion(200000)"
      ],
      "metadata": {
        "id": "-kHKotk4nOBw"
      },
      "execution_count": 168,
      "outputs": []
    },
    {
      "cell_type": "code",
      "source": [
        "#Realizamos el histograma\n",
        "plt.hist(l, bins=100, color='skyblue', edgecolor='black', alpha=0.7)\n",
        "plt.title(\"Distribución triangular\")\n",
        "plt.xlabel(\"x\")\n",
        "plt.ylabel(\"Densidad\")\n",
        "\n",
        "\n",
        "plt.grid(True, linestyle='--', alpha=0.5)\n"
      ],
      "metadata": {
        "colab": {
          "base_uri": "https://localhost:8080/",
          "height": 472
        },
        "id": "oRi6ZPmbdzWP",
        "outputId": "1c399982-e262-4b43-da04-696c3533ba67"
      },
      "execution_count": 169,
      "outputs": [
        {
          "output_type": "display_data",
          "data": {
            "text/plain": [
              "<Figure size 640x480 with 1 Axes>"
            ],
            "image/png": "[encoded data removed]"
          },
          "metadata": {}
        }
      ]
    },
    {
      "cell_type": "code",
      "source": [
        "#Calculamos media, varianza, desviación estandar y el # de muestras\n",
        "\n",
        "print(\"Número de muestras: \",len(l))\n",
        "\n",
        "print(\"Los resultados del programa: \")\n",
        "\n",
        "\n",
        "print(\"El valor de la media es: \", np.mean(l))\n",
        "\n",
        "print(\"El valor de la varianza es: \",np.var(l))\n",
        "\n",
        "print(\"La desviación estandar es: \",np.std(l))\n",
        "\n",
        "#Comparamos con los resultados teoricos\n",
        "\n",
        "print(\"Los resultados teoricos:\")\n",
        "\n",
        "print(\"La media es: \",(a+b+c)/3)\n",
        "\n",
        "print(\"La varianza es: \",((a**2 + b**2 + c**2 - a*c - a*b - b*c)/18))\n",
        "\n",
        "print(\"La desviación estandar es: \", np.sqrt((a**2 + b**2 + c**2 - a*c - a*b - b*c)/18))\n",
        "\n",
        "\n"
      ],
      "metadata": {
        "colab": {
          "base_uri": "https://localhost:8080/"
        },
        "id": "KCRYUBRkd9os",
        "outputId": "523c0d89-431c-49f8-d87b-7525238ba2d0"
      },
      "execution_count": 170,
      "outputs": [
        {
          "output_type": "stream",
          "name": "stdout",
          "text": [
            "Número de muestras:  100226\n",
            "Los resultados del programa: \n",
            "El valor de la media es:  2.9976040113161764\n",
            "El valor de la varianza es:  0.6693415743844245\n",
            "La desviación estandar es:  0.8181329808682843\n",
            "Los resultados teoricos:\n",
            "La media es:  3.0\n",
            "La varianza es:  0.6666666666666666\n",
            "La desviación estandar es:  0.816496580927726\n"
          ]
        }
      ]
    }
  ]
}