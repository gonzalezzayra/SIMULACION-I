{
  "nbformat": 4,
  "nbformat_minor": 0,
  "metadata": {
    "colab": {
      "provenance": [],
      "authorship_tag": "ABX9TyNVsi33j5dA3IINEh7BU/Yc",
      "include_colab_link": true
    },
    "kernelspec": {
      "name": "python3",
      "display_name": "Python 3"
    },
    "language_info": {
      "name": "python"
    }
  },
  "cells": [
    {
      "cell_type": "markdown",
      "metadata": {
        "id": "view-in-github",
        "colab_type": "text"
      },
      "source": [
        "<a href=\"https://colab.research.google.com/github/gonzalezzayra/SIMULACION-I/blob/main/Matrices.ipynb\" target=\"_parent\"><img src=\"https://colab.research.google.com/assets/colab-badge.svg\" alt=\"Open In Colab\"/></a>"
      ]
    },
    {
      "cell_type": "markdown",
      "source": [
        "**Juego con monedas**\n",
        "\n",
        "----\n",
        "\n"
      ],
      "metadata": {
        "id": "Gsvs_ckIEO1q"
      }
    },
    {
      "cell_type": "markdown",
      "source": [
        "Lanzamos dos monedas y avanzamos en sentido horario, el número de caras que aparezcan. Si repetimos el procedimiento.\n",
        "\n",
        "¿Son todos los sectores igualmente probables cuando pase mucho tiempo?\n",
        "\n",
        "La variable de estado es la posición de la ficha\n",
        "\n",
        "$$\\{ \\text{verde, rojo, naranja, azul} \\}$$\n",
        "\n",
        "Los posibles estados en las monedas:\n",
        "\n",
        "$$\\text{CC,CX,XC,XX}$$"
      ],
      "metadata": {
        "id": "l-zoKWF_Iwx2"
      }
    },
    {
      "cell_type": "markdown",
      "source": [
        "Cada unas de las probabilidades:\n",
        "\n",
        "\\begin{align*}\n",
        "\\text{La probabilidad de CC es } &\\frac{1}{4} \\\\\n",
        "\\text{La probabilidad de CX es } &\\frac{1}{2} \\\\\n",
        "\\text{La probabilidad de XC es } &\\frac{1}{2} \\\\\n",
        "\\text{La probabilidad de XX es } &\\frac{1}{4}\n",
        "\\end{align*}"
      ],
      "metadata": {
        "id": "Za8HZ1_ppjdM"
      }
    },
    {
      "cell_type": "markdown",
      "source": [
        "Denotemos por\n",
        "\n",
        "$$x_n \\text{ a la probabilidad de estar en el sector naranja tras } n \\text{ lanzamientos}$$\n",
        "\n",
        "$$y_n \\text{ a la probabilidad de estar en el sector azul tras } n \\text{ lanzamientos}$$\n",
        "\n",
        "$$z_n \\text{ a la probabilidad de estar en el sector verde tras } n \\text{ lanzamientos}$$\n",
        "\n",
        "$$t_n \\text{ a la probabilidad de estar en el sector rojo tras } n \\text{ lanzamientos}$$"
      ],
      "metadata": {
        "id": "9aXHQTgBoBiM"
      }
    },
    {
      "cell_type": "markdown",
      "source": [
        "Analizamos la situación para $n=1$\n",
        "\n",
        "$$x_1 = \\frac{1}{4} x_0 + 0\\cdot y_0 + \\frac{1}{4} \\cdot z_0 + \\frac{2}{4}\\cdot t_0 $$\n",
        "\n",
        "$$y_1 = \\frac{2}{4} x_0 + \\frac{1}{4}\\cdot y_0 + 0 \\cdot z_0 + \\frac{1}{4}\\cdot t_0 $$\n",
        "\n",
        "$$z_1 = \\frac{1}{4} x_0 + \\frac{2}{4}\\cdot y_0 + \\frac{1}{4} \\cdot z_0 + 0 \\cdot t_0 $$\n",
        "\n",
        "$$t_1 = 0\\cdot x_0 + \\frac{1}{4}\\cdot y_0 + \\frac{2}{4} \\cdot z_0 + \\frac{1}{4}\\cdot t_0 $$"
      ],
      "metadata": {
        "id": "6PtIV9H5qa-L"
      }
    },
    {
      "cell_type": "markdown",
      "source": [
        "Para $n=2$\n",
        "\n",
        "$$x_2 = \\frac{1}{4} x_1 + 0\\cdot y_1 + \\frac{1}{4} \\cdot z_1 + \\frac{2}{4}\\cdot t_1 $$\n",
        "\n",
        "$$y_2 = \\frac{2}{4} x_1 + \\frac{1}{4}\\cdot y_1 + 0 \\cdot z_1 + \\frac{1}{4}\\cdot t_1 $$\n",
        "\n",
        "$$z_2 = \\frac{1}{4} x_1 + \\frac{2}{4}\\cdot y_1 + \\frac{1}{4} \\cdot z_1 + 0 \\cdot t_1 $$\n",
        "\n",
        "$$t_2 = 0\\cdot x_1 + \\frac{1}{4}\\cdot y_1 + \\frac{2}{4} \\cdot z_1 + \\frac{1}{4}\\cdot t_1 $$"
      ],
      "metadata": {
        "id": "e1K6iDgRr8Zf"
      }
    },
    {
      "cell_type": "markdown",
      "source": [
        "En general:\n",
        "\n"
      ],
      "metadata": {
        "id": "0m8VdgqAsX7s"
      }
    },
    {
      "cell_type": "markdown",
      "source": [
        "$$\n",
        "\\begin{pmatrix} X_n \\\\ Y_n \\\\ Z_n \\\\ T_n \\end{pmatrix} = \\begin{pmatrix} \\frac{1}{4} & 0 & \\frac{1}{4} & \\frac{2}{4} \\\\ \\frac{2}{4}& \\frac{1}{4} & 0 & \\frac{1}{4} \\\\ \\frac{1}{4} & \\frac{2}{4} & \\frac{1}{4} & 0 \\\\ 0 & \\frac{1}{4} & \\frac{2}{4} & \\frac{1}{4} \\end{pmatrix}  \\begin{pmatrix} X_{n-1} \\\\ Y_{n-1} \\\\ Z_{n-1} \\\\ T_{n-1} \\end{pmatrix}\n",
        "$$"
      ],
      "metadata": {
        "id": "-ZgeAzrlvhPA"
      }
    },
    {
      "cell_type": "markdown",
      "source": [
        "Simplificando:\n",
        "\n",
        "$$X_n = A\\cdot X_{n-1} = A^2\\cdot X_{n-2} = ... = A^n\\cdot X_{0}$$\n",
        "\n",
        "Entonces se tiene que resolver $A^n$"
      ],
      "metadata": {
        "id": "QsjsfIeYvn1o"
      }
    },
    {
      "cell_type": "code",
      "execution_count": 121,
      "metadata": {
        "colab": {
          "base_uri": "https://localhost:8080/"
        },
        "id": "3MpgObPuCSBK",
        "outputId": "b5eca054-62d8-4d0d-feb0-d8ace52b16d7"
      },
      "outputs": [
        {
          "output_type": "stream",
          "name": "stdout",
          "text": [
            "[[0.125 0.25  0.375 0.25 ]\n",
            " [0.25  0.125 0.25  0.375]\n",
            " [0.375 0.25  0.125 0.25 ]\n",
            " [0.25  0.375 0.25  0.125]]\n",
            "[[0.25 0.25 0.25 0.25]\n",
            " [0.25 0.25 0.25 0.25]\n",
            " [0.25 0.25 0.25 0.25]\n",
            " [0.25 0.25 0.25 0.25]]\n"
          ]
        }
      ],
      "source": [
        "import numpy as np\n",
        "\n",
        "#Define la matriz de 4x4\n",
        "\n",
        "matriz_a = np.array([[0.25, 0, 0.25, 0.5],\n",
        "                     [0.5, 0.25, 0, 0.25],\n",
        "                     [0.25, 0.5, 0.25, 0],\n",
        "                     [0, 0.25, 0.5, 0.25]])\n",
        "\n",
        "res = np.dot(matriz_a, matriz_a)\n",
        "print(res)\n",
        "\n",
        "#Para comparar\n",
        "n = 1000\n",
        "\n",
        "#Eleva la matriz a la potencia n\n",
        "matriz_a_potencia_n = np.linalg.matrix_power(matriz_a, n)\n",
        "\n",
        "\n",
        "print(matriz_a_potencia_n)\n"
      ]
    },
    {
      "cell_type": "code",
      "source": [
        "import random\n",
        "import numpy as np\n",
        "import matplotlib.pyplot as plt"
      ],
      "metadata": {
        "id": "LHz0wehiInQL"
      },
      "execution_count": 122,
      "outputs": []
    },
    {
      "cell_type": "code",
      "source": [
        "#Con diccionarios\n",
        "\n",
        "#Los sectores del tablero\n",
        "#sectores: rojo, naranja, azul y verde\n",
        "#A 0 se le asigna la etiqueta de verde, 1 la de rojo, 2 la de naranja y 3 la de azul\n",
        "sectores = {0:'verde', 1:'rojo', 2:'naranja', 3:'azul'}\n",
        "\n",
        "#Necesitamos inicializar las posiciones,este diccionario es diferente\n",
        "contador = {'verde' :0, 'rojo':0, 'naranja' : 0, 'azul':0}\n",
        "#Por ejemplo a verde se le asigna el valor de 0, y así con el resto de colores,es por eso que se inicializa"
      ],
      "metadata": {
        "id": "VOMp7xPMKwWF"
      },
      "execution_count": 123,
      "outputs": []
    },
    {
      "cell_type": "code",
      "source": [
        "#Fijamos la posición en 0\n",
        "posicion = 0\n",
        "\n",
        "#Número de lanzamientos\n",
        "n = 10000"
      ],
      "metadata": {
        "id": "7GT0eYhXPjFq"
      },
      "execution_count": 124,
      "outputs": []
    },
    {
      "cell_type": "code",
      "source": [
        "#Simulamos el lanzamiento de las dos monedas\n",
        "for _ in range(n):\n",
        "  contador[sectores[posicion]] += 1 #Aqui el contador es dependiendo de sectores y sectores dependiendo de posicion\n",
        "  #Es por ello que se hizo el uso de los diccionarios\n",
        "  moneda_1 = random.choice([0,1]) #0 es cruz, 1 es cara\n",
        "  moneda_2 = random.choice([0,1])\n",
        "  #Sumamos lo resultante en las 2 monedas\n",
        "  caras = moneda_1 + moneda_2 #Por ejemplo, si salen las dos caras si se nos suman 2 a caras\n",
        "  posicion = (posicion + caras) % 4  #El modulo es para saber en que color se encuentra"
      ],
      "metadata": {
        "id": "QyWhXcKLQ-eF"
      },
      "execution_count": 126,
      "outputs": []
    },
    {
      "cell_type": "code",
      "source": [
        "probabilidad_verde = contador['verde']/n #dependiendo del numero de veces que caiga se divide entre n\n",
        "probabilidad_rojo = contador['rojo']/n\n",
        "probabilidad_naranja = contador['naranja']/n\n",
        "probabilidad_azul = contador['azul']/n\n",
        "\n",
        "print(\"La probabilidad de verde es:\", probabilidad_verde)\n",
        "print(\"La probabilidad de rojo es:\", probabilidad_rojo)\n",
        "print(\"La probabilidad de naranja es:\", probabilidad_naranja)\n",
        "print(\"La probabilidad de azul es:\", probabilidad_azul)\n",
        "\n",
        "\n",
        "probabilidades = [probabilidad_verde, probabilidad_rojo, probabilidad_naranja, probabilidad_azul]\n",
        "print(\"Las probabilidades son:\", probabilidades)"
      ],
      "metadata": {
        "colab": {
          "base_uri": "https://localhost:8080/"
        },
        "id": "4oLXjZW5giy7",
        "outputId": "b919a96f-6339-481f-aa23-dfcd1dc03c54"
      },
      "execution_count": 127,
      "outputs": [
        {
          "output_type": "stream",
          "name": "stdout",
          "text": [
            "La probabilidad de verde es: 0.5052\n",
            "La probabilidad de rojo es: 0.4979\n",
            "La probabilidad de naranja es: 0.506\n",
            "La probabilidad de azul es: 0.4909\n",
            "Las probabilidades son: [0.5052, 0.4979, 0.506, 0.4909]\n"
          ]
        }
      ]
    },
    {
      "cell_type": "code",
      "source": [
        "#Gráfica\n",
        "plt.bar(['verde', 'rojo', 'naranja', 'azul'], probabilidades, color=['green', 'red', 'orange', 'blue'])\n",
        "plt.title('Juego con monedas (colores)')\n",
        "plt.xlabel('Color')\n",
        "plt.ylabel('Probabilidad')\n",
        "plt.show()"
      ],
      "metadata": {
        "colab": {
          "base_uri": "https://localhost:8080/",
          "height": 472
        },
        "id": "OZxJlIPliRUk",
        "outputId": "9f931a0b-7937-4a0f-9a6a-9f5f2cf5cb73"
      },
      "execution_count": 128,
      "outputs": [
        {
          "output_type": "display_data",
          "data": {
            "text/plain": [
              "<Figure size 640x480 with 1 Axes>"
            ],
            "image/png": "[encoded data removed]"
          },
          "metadata": {}
        }
      ]
    }
  ]
}