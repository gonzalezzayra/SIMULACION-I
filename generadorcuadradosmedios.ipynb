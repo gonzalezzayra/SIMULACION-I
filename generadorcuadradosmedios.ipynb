{
  "nbformat": 4,
  "nbformat_minor": 0,
  "metadata": {
    "colab": {
      "provenance": [],
      "authorship_tag": "ABX9TyPr7depANCLBlrHzdZTtALu",
      "include_colab_link": true
    },
    "kernelspec": {
      "name": "python3",
      "display_name": "Python 3"
    },
    "language_info": {
      "name": "python"
    }
  },
  "cells": [
    {
      "cell_type": "markdown",
      "metadata": {
        "id": "view-in-github",
        "colab_type": "text"
      },
      "source": [
        "<a href=\"https://colab.research.google.com/github/gonzalezzayra/SIMULACION-I/blob/main/generadorcuadradosmedios.ipynb\" target=\"_parent\"><img src=\"https://colab.research.google.com/assets/colab-badge.svg\" alt=\"Open In Colab\"/></a>"
      ]
    },
    {
      "cell_type": "markdown",
      "source": [
        "**Generador de cuadrados medios**"
      ],
      "metadata": {
        "id": "ZAcJAW4VRBEN"
      }
    },
    {
      "cell_type": "markdown",
      "source": [
        "Se eleva al cuadrado un número que es la semilla y extrae los 4 dígitos centrales del resultado para generar la siguiente semilla.\n",
        "\n",
        "\n",
        "\n",
        "1.   Seleccionar una semilla  \n",
        "2.   Elevar la semilla al cuadrado\n",
        "3.   Se extraen los digitos centrales\n",
        "4.   Ahora estos digitos son la nueva semilla (actual)\n",
        "5.   Se repite el proceso\n",
        "\n",
        "Para Normalizar\n",
        "\n",
        "Se divide entre $10^4$ si\n"
      ],
      "metadata": {
        "id": "O3AmJHZDjXaY"
      }
    },
    {
      "cell_type": "markdown",
      "source": [
        "El ciclo de vida para este generador depende de cómo evoluciona, ya que puede haber diferentes casos.\n",
        "\n",
        "\n",
        "\n",
        "*   Ciclo Repetitivo. La secuencia entra a un bucle cíclico\n",
        "*   Degeneración a cero. Si en algún momento es \"0000\", el generador se quedará atrapado en ceros para siempre.\n",
        "*   Pérdida de Aleatoriedad. Pueden surgir patrones predecibles.\n",
        "\n",
        "\n",
        "\n",
        "\n"
      ],
      "metadata": {
        "id": "duFDKG7xjHx0"
      }
    },
    {
      "cell_type": "code",
      "source": [
        "from tabulate import tabulate\n",
        "\n",
        "#Parametro\n",
        "semilla = 1938 #Es un numero de 4 digitos y es el inicial\n",
        "cantidad = 10  # Cantidad de numeros a generar\n",
        "\n",
        "def generador_cuadrados_medios(semilla, cantidad, digitos=4):\n",
        "\n",
        "    tabla_datos = [] #Lista para almacenar los datos de la tabla\n",
        "    valor_actual = semilla #Declaramos como valor inicial a la semilla\n",
        "\n",
        "    for i in range(cantidad):\n",
        "        #Elevar al cuadrado el valor actual, iniciamos con la semilla\n",
        "        cuadrado = valor_actual ** 2\n",
        "\n",
        "        #Deifnir el cuadrado como string y rellenar con ceros\n",
        "        #Antes se habia establecido que la semilla tiene que ser de 4 digitos\n",
        "        #Establecemos que nos den 8 digitos para poder extraer los digitos que se encuentran en el centro\n",
        "        cuadrado_str = str(cuadrado).zfill(2 * digitos)\n",
        "\n",
        "#Calcular la posición para extraer los digitos centrales\n",
        "\n",
        "        #Por ejemplo con 1938 al cuadrado es igual a 3755844, llenamos con un cero a la izquierda y nos queda 03755844\n",
        "        #Se tienen (8- 4)//2 (que es la división entera) es igual a  2, entonces se toma desde la posición 2\n",
        "        #Es donde se encuentra el 7\n",
        "\n",
        "        inicio = (len(cuadrado_str) - digitos) // 2\n",
        "\n",
        "        #Siguiendo con el ejemplo, el fin es igual a 2 + 4, entonces la posición 6 es 8\n",
        "\n",
        "        fin = inicio + digitos\n",
        "\n",
        "        #Definimos que el medio se encuentra entre la posición 2 y 6\n",
        "\n",
        "        medio = cuadrado_str[inicio:fin]\n",
        "\n",
        "        #Convertirmos a entero\n",
        "        valor_actual = int(medio)\n",
        "\n",
        "        #Normalizamos\n",
        "\n",
        "        normalizado = valor_actual /(10**digitos)\n",
        "\n",
        "\n",
        "        #Tabla con número de iteración, valor entero y el normalizado\n",
        "        tabla_datos.append([i+1, valor_actual, normalizado])\n",
        "\n",
        "    #Crear encabezados\n",
        "    encabezados = [\"Iteración\", \"Valor Entero\", \"Normalizado\"]\n",
        "    #Definir tabla\n",
        "    tabla = tabulate(tabla_datos, headers=encabezados, tablefmt=\"grid\")\n",
        "    return tabla\n",
        "\n",
        "# Generar y mostrar tabla\n",
        "print(\"Generador de Cuadrados Medios:\")\n",
        "print(generador_cuadrados_medios(semilla, cantidad))"
      ],
      "metadata": {
        "colab": {
          "base_uri": "https://localhost:8080/"
        },
        "id": "CH0gluQwVdXI",
        "outputId": "05834e7a-47a5-44ef-f325-6b5c4ef9b61d"
      },
      "execution_count": 34,
      "outputs": [
        {
          "output_type": "stream",
          "name": "stdout",
          "text": [
            "Generador de Cuadrados Medios:\n",
            "+-------------+----------------+---------------+\n",
            "|   Iteración |   Valor Entero |   Normalizado |\n",
            "+=============+================+===============+\n",
            "|           1 |           7558 |        0.7558 |\n",
            "+-------------+----------------+---------------+\n",
            "|           2 |           1233 |        0.1233 |\n",
            "+-------------+----------------+---------------+\n",
            "|           3 |           5202 |        0.5202 |\n",
            "+-------------+----------------+---------------+\n",
            "|           4 |            608 |        0.0608 |\n",
            "+-------------+----------------+---------------+\n",
            "|           5 |           3696 |        0.3696 |\n",
            "+-------------+----------------+---------------+\n",
            "|           6 |           6604 |        0.6604 |\n",
            "+-------------+----------------+---------------+\n",
            "|           7 |           6128 |        0.6128 |\n",
            "+-------------+----------------+---------------+\n",
            "|           8 |           5523 |        0.5523 |\n",
            "+-------------+----------------+---------------+\n",
            "|           9 |           5035 |        0.5035 |\n",
            "+-------------+----------------+---------------+\n",
            "|          10 |           3512 |        0.3512 |\n",
            "+-------------+----------------+---------------+\n"
          ]
        }
      ]
    }
  ]
}