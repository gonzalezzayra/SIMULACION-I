{
  "nbformat": 4,
  "nbformat_minor": 0,
  "metadata": {
    "colab": {
      "provenance": [],
      "authorship_tag": "ABX9TyOBnAo7EkT55gd2jcz1sorf",
      "include_colab_link": true
    },
    "kernelspec": {
      "name": "python3",
      "display_name": "Python 3"
    },
    "language_info": {
      "name": "python"
    }
  },
  "cells": [
    {
      "cell_type": "markdown",
      "metadata": {
        "id": "view-in-github",
        "colab_type": "text"
      },
      "source": [
        "<a href=\"https://colab.research.google.com/github/gonzalezzayra/SIMULACION-I/blob/main/M%C3%A9todo_Box_Muller.ipynb\" target=\"_parent\"><img src=\"https://colab.research.google.com/assets/colab-badge.svg\" alt=\"Open In Colab\"/></a>"
      ]
    },
    {
      "cell_type": "markdown",
      "source": [
        "**Método Box-Müller**\n",
        "\n",
        "**(Mejor método para generar las normales)**"
      ],
      "metadata": {
        "id": "s56vWo6s9eWV"
      }
    },
    {
      "cell_type": "markdown",
      "source": [
        "Los experimentos de muestreo a menudo requieren la generación de un gran número de desviaciones normales aleatorias. Cuando se utiliza una computadora electrónica, es deseable organizar la generación de dichas desviaciones normales dentro de la propia maquina en lugar de depender de tablas.\n",
        "\n",
        "Los números pseudoaleatorios pueden generarse mediante diversos métodos dentro de la máquina, y el propósito de esta nota es presentar lo que se considera un nuevo método para generar desviaciones normales a partir de números aleatorios independientes. Este enfoque puede utilizarse tanto en computadoras pequeñas como grandes.\n",
        "\n"
      ],
      "metadata": {
        "id": "UvUvzduz6USQ"
      }
    },
    {
      "cell_type": "markdown",
      "source": [
        "**Método:**\n",
        "\n"
      ],
      "metadata": {
        "id": "dacF-2w16XS5"
      }
    },
    {
      "cell_type": "markdown",
      "source": [
        "Sea $U_1$, $U_2$ variables aleatorias independientes de la misma función de densidad rectangular en el intervalo $(0,1)$. Considere las variables aleatorias:\n",
        "\n",
        "$$ X = \\sqrt{(-2 \\log U_1 )} cos 2\\pi U_2$$\n",
        "\n",
        "$$ Y = \\sqrt{(-2 \\log U_1 )} sin 2\\pi U_2$$\n",
        "\n",
        "Estas dos expresiones son fundamentales para el desarrollo del algoritmo, en nuestro caso ocupamos $X \\text{ e } Y$\n",
        "\n",
        "Mejor de esta forma para simplificarlo y sea más sencillo de visualizar, utilizamos $R$ y $\\theta$:\n",
        "\n",
        "\n",
        "\\begin{aligned}\n",
        "&\\text{ } R = \\sqrt{ -2\\ln U_1 }, \\quad \\theta = 2\\pi U_2 \\\\\n",
        "&\\text{ } X = R \\cos \\theta, \\quad Y = R \\sin \\theta \\\\\n",
        "\\end{aligned}\n",
        "\n",
        "\n",
        "$X,Y$ serán un par de variables aleatorias independientes de la misma distribución normal con media cero y varianza unitaria.\n",
        "\n",
        "De la función gaussiana inversa de las desviaciones uniformes, se obtienen de inmediato las relaciones inversas:\n",
        "\n",
        "$$U_1 = e^{\\frac{-(X^{2}+ Y^{2})}{2}}$$\n",
        "\n",
        "$$U_2 = -\\frac{1}{2\\pi} \\cdot \\arctan \\frac{Y}{X}$$\n"
      ],
      "metadata": {
        "id": "iaTzZ_vAWLTO"
      }
    },
    {
      "cell_type": "markdown",
      "source": [
        "De ello se deduce que la densidad conjunta de $X$, $Y$ es\n",
        "\n",
        "$$f(X,Y)=\\frac{1}{2\\pi} e^{-\\frac{X + Y}{2}} = \\frac{1}{\\sqrt{2\\pi}} e^{-\\frac{-X^{2}}{2}}\\cdot \\frac{1}{\\sqrt{2\\pi}} e^{-\\frac{-Y^{2}}{2}} = f(X)f(Y)$$\n",
        "\n",
        "\n",
        "La densidad de probabilidad de $f(X,Y)$ es constante en círculos, por lo que $\\theta = \\arctan (Y/X) $ se distribuye uniformemente $(0,2\\pi)$.\n",
        "\n",
        "El cuadrado de la longitud del radio vector $r^{2} = X^{2} + Y^{2}$ tiene una distribución chi-cuadrada con dos grados de libertad.\n",
        "\n",
        "Si $U$ tiene una densidad rectangular en $(0,1)$, entonces $- 2\\log_{e} U $ tiene una distribución chi-cuadrada con dos grados de libertad.\n",
        "\n"
      ],
      "metadata": {
        "id": "QSzBO4Hgc3oq"
      }
    },
    {
      "cell_type": "markdown",
      "source": [
        "**Generalizaciones y otras variables aleatorias**\n",
        "\n",
        "La suma de $k$ términos $\\sum_{i=1}^k (-2 \\log U_i)$genera una Chi-cuadrada con $2k$ grados de libertad. Para $2k+1$ grados, se añade el cuadrado de una normal.\n",
        "\n",
        "El método permite generar normales n-dimensionales con medias y covarianzas arbitrarias usando normales independientes."
      ],
      "metadata": {
        "id": "A_arIbIDBYqr"
      }
    },
    {
      "cell_type": "markdown",
      "source": [
        "**Convenencia y precisión**\n",
        "\n",
        "El método sugerido aquí surge del deseo de tener una forma de generar desviaciones normales que sea confiable en los valores de la distribución para centros de cómputo que dependan de funciones trigonométricas, logaritmos y raíces cuadradas; este enfoque requiere poco programa adicional de escritura en la máquina.\n"
      ],
      "metadata": {
        "id": "XVF2RAAg9Ncd"
      }
    },
    {
      "cell_type": "markdown",
      "source": [
        "**Pseudocódigo:**\n",
        "\n",
        "\\begin{aligned}\n",
        "&\\text{Generar } U_1, U_2 \\sim U(0,1) \\\\\n",
        "&\\text{Hacer } R = \\sqrt{ -2\\ln U_1 }, \\quad \\theta = 2\\pi U_2 \\\\\n",
        "&\\text{Hacer } X = R \\cos \\theta, \\quad Y = R \\sin \\theta \\\\\n",
        "&\\text{Salir } X, Y\n",
        "\\end{aligned}\n",
        "\n"
      ],
      "metadata": {
        "id": "6s-yDYtE-2LK"
      }
    },
    {
      "cell_type": "code",
      "source": [
        "#Importar librerias\n",
        "import numpy as np\n",
        "import matplotlib.pyplot as plt\n",
        "import random as rd"
      ],
      "metadata": {
        "id": "LJcee4PEAAky"
      },
      "execution_count": 22,
      "outputs": []
    },
    {
      "cell_type": "code",
      "source": [
        "#Definir box,como todos los calculos que se necesitan\n",
        "def box():\n",
        "    U1 = rd.uniform(0,1) #Generar los dos numeros aleatorios U1 y U2\n",
        "    U2 = rd.uniform(0,1)\n",
        "    R = np.sqrt(-2*np.log(U1)) #Calcular R\n",
        "    theta = 2*np.pi*U2 #Calcular theta\n",
        "    X = R*np.cos(theta) #Calcular X\n",
        "    Y = R*np.sin(theta) #Calcular Y\n",
        "    return X,Y"
      ],
      "metadata": {
        "id": "KRH6n9OCAGMW"
      },
      "execution_count": null,
      "outputs": []
    },
    {
      "cell_type": "code",
      "source": [
        "#Crear dos listas para x e y\n",
        "listax = []\n",
        "listay = []\n",
        "\n",
        "#Definir el experimento\n",
        "def experimento(n):\n",
        "  for _ in range(n): #Ciclo for para que podamos generar varios\n",
        "    X,Y = box() #Asignamos el valor de x e y a la función\n",
        "    listax.append(X) #Adjuntar a la lista de x\n",
        "    listay.append(Y) #Adjuntar a la lista de y\n",
        "  return listax, listay"
      ],
      "metadata": {
        "id": "ll93BbceAhQx"
      },
      "execution_count": null,
      "outputs": []
    },
    {
      "cell_type": "code",
      "source": [
        "#experimento\n",
        "l = experimento(100000)"
      ],
      "metadata": {
        "id": "irLrYd3IWIwe"
      },
      "execution_count": 23,
      "outputs": []
    },
    {
      "cell_type": "code",
      "source": [
        "#Graficar\n",
        "plt.hist(l, bins=100 ,alpha = 0.7)\n",
        "plt.title(\"Método Box-Müller\")\n",
        "plt.grid(True, linestyle = '--', alpha = 0.5)\n",
        "plt.show()"
      ],
      "metadata": {
        "colab": {
          "base_uri": "https://localhost:8080/",
          "height": 246
        },
        "id": "CTxsU3vaWZEj",
        "outputId": "a3f52b49-5fc2-4442-b671-4f17c22afae3"
      },
      "execution_count": 24,
      "outputs": [
        {
          "output_type": "display_data",
          "data": {
            "text/plain": [
              "<Figure size 640x480 with 1 Axes>"
            ],
            "image/png": "[encoded data removed]"
          },
          "metadata": {}
        }
      ]
    },
    {
      "cell_type": "code",
      "source": [
        "#Calcular media y desviación estandar\n",
        "print(\"La media es: \", np.mean(l))\n",
        "print(\"La desviación estandar es: \", np.std(l))\n",
        "\n",
        "#Resultados teoricos\n",
        "print(\"Los resultados teoricos\")\n",
        "print(\"La media es: \", 0)\n",
        "print(\"La desviación estandar es: \", 1)"
      ],
      "metadata": {
        "colab": {
          "base_uri": "https://localhost:8080/"
        },
        "id": "D1ivUysVYDg_",
        "outputId": "e655e6da-6ebe-445a-8da6-395fa27b7017"
      },
      "execution_count": 25,
      "outputs": [
        {
          "output_type": "stream",
          "name": "stdout",
          "text": [
            "La media es:  -0.002142488204097182\n",
            "La desviación estandar es:  1.00048672783369\n",
            "Los resultados teoricos\n",
            "La media es:  0\n",
            "La desviación estandar es:  1\n"
          ]
        }
      ]
    },
    {
      "cell_type": "code",
      "source": [
        "# Calcular errores\n",
        "\n",
        "# Imprimir errores\n",
        "print(\"Errores para la media:\")\n",
        "print(\"Error absoluto:\", np.abs(0 - np.mean(l)))\n",
        "#No obtenemos el error relativo o porcentual porque se divide entre 0\n",
        "\n",
        "print(\"\\nErrores para la desviación estándar:\")\n",
        "print(\"Error absoluto:\", np.abs(1 - np.std(l)))\n",
        "print(\"Error relativo:\", np.abs(1 - np.std(l))/ np.abs(1))\n",
        "print(\"Error porcentual:\", (np.abs(1 - np.std(l))/np.abs(1)) * 100, \"%\")"
      ],
      "metadata": {
        "colab": {
          "base_uri": "https://localhost:8080/"
        },
        "id": "j6hIN3Og6Iy_",
        "outputId": "9148d2d5-c961-4fdd-ae55-e29f7e012181"
      },
      "execution_count": 26,
      "outputs": [
        {
          "output_type": "stream",
          "name": "stdout",
          "text": [
            "Errores para la media:\n",
            "Error absoluto: 0.002142488204097182\n",
            "\n",
            "Errores para la desviación estándar:\n",
            "Error absoluto: 0.0004867278336899705\n",
            "Error relativo: 0.0004867278336899705\n",
            "Error porcentual: 0.04867278336899705 %\n"
          ]
        }
      ]
    }
  ]
}