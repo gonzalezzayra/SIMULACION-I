{
  "nbformat": 4,
  "nbformat_minor": 0,
  "metadata": {
    "colab": {
      "provenance": [],
      "authorship_tag": "ABX9TyMa25lMURvhUY7ebrsHjX7i",
      "include_colab_link": true
    },
    "kernelspec": {
      "name": "python3",
      "display_name": "Python 3"
    },
    "language_info": {
      "name": "python"
    }
  },
  "cells": [
    {
      "cell_type": "markdown",
      "metadata": {
        "id": "view-in-github",
        "colab_type": "text"
      },
      "source": [
        "<a href=\"https://colab.research.google.com/github/gonzalezzayra/SIMULACION-I/blob/main/prueba_kolmogorov_smirnov.ipynb\" target=\"_parent\"><img src=\"https://colab.research.google.com/assets/colab-badge.svg\" alt=\"Open In Colab\"/></a>"
      ]
    },
    {
      "cell_type": "markdown",
      "source": [
        "**Prueba de Kolmogorov-Smirnov**"
      ],
      "metadata": {
        "id": "eDjBnFang_7v"
      }
    },
    {
      "cell_type": "markdown",
      "source": [
        "\n",
        "1. Ordene de menor a mayor los números aleatorios\n",
        "2. Calule los valores $D^{+}, D^{-} \\text{ y  } D :$\n",
        "\n",
        "$$\n",
        "D^{+} = \\max  \\left| \\frac{i}{n} - x_{i} \\right|\n",
        "$$\n",
        "\n",
        "$$\n",
        "D^{-} = \\max  \\left| x_{i} - \\frac{i-1}{n} \\right|\n",
        "$$\n",
        "\n",
        "$$\n",
        "D = max\\{ D^{+} , D^{-}\\}\n",
        "$$\n",
        "\n",
        "3. Determinar el valor crítico $d_{\\alpha, n}$ en la tabla de valores criticos de Kolmogorov- Smirnov para un nivel de confianza $(1- \\alpha)$ y un tamaño de la muestra $n$.\n",
        "Si $D > d_{\\alpha, n}$ se rechaza $H_0$.\n",
        "\n",
        "\n"
      ],
      "metadata": {
        "id": "aWOcYQRMDXNu"
      }
    },
    {
      "cell_type": "code",
      "execution_count": 22,
      "metadata": {
        "colab": {
          "base_uri": "https://localhost:8080/"
        },
        "id": "p9aSbFCrg3vG",
        "outputId": "a1d18f78-be53-440f-b5a1-e1e044e6da3b"
      },
      "outputs": [
        {
          "output_type": "stream",
          "name": "stdout",
          "text": [
            " i   x_i  i/n  i/n - x_i  x_i - i-1/n\n",
            " 1 0.007 0.04      0.033        0.007\n",
            " 2 0.048 0.08      0.032        0.008\n",
            " 3 0.086 0.12      0.034        0.006\n",
            " 4 0.157 0.16      0.003        0.037\n",
            " 5 0.166 0.20      0.034        0.006\n",
            " 6 0.178 0.24      0.062        0.022\n",
            " 7 0.199 0.28      0.081        0.041\n",
            " 8 0.298 0.32      0.022        0.018\n",
            " 9 0.362 0.36      0.002        0.042\n",
            "10 0.368 0.40      0.032        0.008\n",
            "11 0.401 0.44      0.039        0.001\n",
            "12 0.411 0.48      0.069        0.029\n",
            "13 0.437 0.52      0.083        0.043\n",
            "14 0.478 0.56      0.082        0.042\n",
            "15 0.533 0.60      0.067        0.027\n",
            "16 0.545 0.64      0.095        0.055\n",
            "17 0.551 0.68      0.129        0.089\n",
            "18 0.591 0.72      0.129        0.089\n",
            "19 0.594 0.76      0.166        0.126\n",
            "20 0.631 0.80      0.169        0.129\n",
            "21 0.772 0.84      0.068        0.028\n",
            "22 0.787 0.88      0.093        0.053\n",
            "23 0.926 0.92      0.006        0.046\n",
            "24 0.932 0.96      0.028        0.012\n",
            "25 0.951 1.00      0.049        0.009\n",
            "El valor de D+: 0.16900000000000004\n",
            "El valor de D-: 0.129\n",
            "El valor de D: 0.16900000000000004\n"
          ]
        }
      ],
      "source": [
        "import numpy as np\n",
        "import pandas as pd\n",
        "\n",
        "#Dar lista que contiene los datos del ejercicio propuesto\n",
        "\n",
        "muestra=[0.048, 0.926, 0.368, 0.787, 0.298, 0.591, 0.007, 0.437, 0.594, 0.199, 0.478, 0.551, 0.178, 0.086, 0.157, 0.166, 0.362, 0.411, 0.951, 0.401, 0.932, 0.533, 0.545, 0.772, 0.631]\n",
        "\n",
        "#Segunda columna\n",
        "#Para x_i\n",
        "#Ordenar los elementos de la muestra de menor a mayor\n",
        "x_i = np.sort(muestra)\n",
        "\n",
        "\n",
        "#Conocemos que la muestra es de 25 elementos\n",
        "#n = 25\n",
        "#Para una muestra de diferente tamaño añadimos, para calcular el tamaño de la muestra estando ya ordenados\n",
        "n = len(x_i)\n",
        "\n",
        "#Primer columna\n",
        "#Calcular i\n",
        "i = np.arange( 1, n +1)\n",
        "\n",
        "\n",
        "#Tercer columna\n",
        "#Calcular i/n\n",
        "i_n = i/n\n",
        "\n",
        "\n",
        "#Cuarta columna\n",
        "#Calcular |i/n - x_i|\n",
        "\n",
        "i_n_x = np.abs(i_n - x_i)\n",
        "\n",
        "#Quinta columna\n",
        "#Calcular i-1/ n\n",
        "\n",
        "i_1 = (i-1)/n\n",
        "\n",
        "#Calcular x_i - i-1/n\n",
        "x_i_i = np.abs(x_i - i_1)\n",
        "\n",
        "#Crear tabla\n",
        "\n",
        "tabla = pd.DataFrame({\n",
        "    \"i\" : i, \"x_i\" : x_i, \"i/n\" : i_n, \"i/n - x_i\" : i_n_x, \"x_i - i-1/n\" :x_i_i\n",
        "})\n",
        "\n",
        "#Calcular los valores de D+, D- y D\n",
        "\n",
        "D_mas = max(i_n_x)\n",
        "\n",
        "D_men = max(x_i_i)\n",
        "\n",
        "D = max(D_mas, D_men)\n",
        "\n",
        "\n",
        "#Mandar a imprimir la tabla sin numeración\n",
        "print(tabla.to_string(index=False))\n",
        "#Mandar a imprimir los valores de D+, D- y D\n",
        "print(\"El valor de D+:\", D_mas)\n",
        "print(\"El valor de D-:\", D_men)\n",
        "print(\"El valor de D:\", D)"
      ]
    },
    {
      "cell_type": "markdown",
      "source": [
        "Para determinar el valor critico cuando la n es mayor a 40\n",
        "\n",
        "$$n > 40 \\text{ se utiliza } \\frac{1.36}{\\sqrt{n}} $$\n",
        "\n",
        "en este caso se ocupo una aproximaxión, para que no se tuviera que estar proporcionado el valor, aunque es obvio que esta aproximación tendrá sus fallas\n",
        "\n",
        "\n",
        "$$ \\frac{1.32}{\\sqrt{n}}$$\n",
        "\n",
        "la otra opción sería determinar el valor critico con la tabla y proporcionarlo al código."
      ],
      "metadata": {
        "id": "vyMijWHZCnlh"
      }
    },
    {
      "cell_type": "code",
      "source": [
        "#Determinar el valor critico de d_alpha_n\n",
        "\n",
        "alpha = 0.05\n",
        "\n",
        "#n es el tamaño de la muestra\n",
        "#se hizo esta aproximación para calcular el valor del valor crítico ya que para n mayores a 40\n",
        "#se calcula con 1.36/np.sqrt(n)\n",
        "\n",
        "d_alpha_n = 1.32/np.sqrt(n)\n",
        "\n",
        "#Si es que lo proprocionamos\n",
        "#d_alpha_n = 0.264\n",
        "\n",
        "\n",
        "\n",
        "print(\"Valor crítico:\", d_alpha_n)\n",
        "\n",
        "#Comparar valores\n",
        "\n",
        "if D > d_alpha_n:\n",
        "  print(\"Se rechaza H_0\")\n",
        "else:\n",
        "  print(\"No se rechaza H_0\")\n"
      ],
      "metadata": {
        "id": "uTvQ9rVwsfJW",
        "colab": {
          "base_uri": "https://localhost:8080/"
        },
        "outputId": "78300887-40f4-4e0f-f630-9dc1c66c1a4d"
      },
      "execution_count": 23,
      "outputs": [
        {
          "output_type": "stream",
          "name": "stdout",
          "text": [
            "Valor crítico: 0.264\n",
            "No se rechaza H_0\n"
          ]
        }
      ]
    }
  ]
}